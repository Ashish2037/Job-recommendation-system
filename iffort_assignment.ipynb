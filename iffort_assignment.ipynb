{
 "cells": [
  {
   "cell_type": "code",
   "execution_count": 396,
   "id": "7dc2a069-2c7a-41ca-82b1-e9d1efd77b14",
   "metadata": {},
   "outputs": [],
   "source": [
    "import numpy as np                # import all the necessary libraries\n",
    "import pandas as pd"
   ]
  },
  {
   "cell_type": "code",
   "execution_count": 397,
   "id": "9d3ef0f9-c42d-4414-a685-c7b0c4120b89",
   "metadata": {},
   "outputs": [],
   "source": [
    "df = pd.read_excel('AI ML Assignment.xlsx')      # loading the excel file into the pandas Data"
   ]
  },
  {
   "cell_type": "code",
   "execution_count": 398,
   "id": "e14f2352-9dc6-4abc-bfd5-0fb80b1c1b90",
   "metadata": {},
   "outputs": [
    {
     "data": {
      "text/html": [
       "<div>\n",
       "<style scoped>\n",
       "    .dataframe tbody tr th:only-of-type {\n",
       "        vertical-align: middle;\n",
       "    }\n",
       "\n",
       "    .dataframe tbody tr th {\n",
       "        vertical-align: top;\n",
       "    }\n",
       "\n",
       "    .dataframe thead th {\n",
       "        text-align: right;\n",
       "    }\n",
       "</style>\n",
       "<table border=\"1\" class=\"dataframe\">\n",
       "  <thead>\n",
       "    <tr style=\"text-align: right;\">\n",
       "      <th></th>\n",
       "      <th>Timestamp</th>\n",
       "      <th>Comment</th>\n",
       "      <th>Source of Application-</th>\n",
       "      <th>Applied for the role of-</th>\n",
       "      <th>Full Name</th>\n",
       "      <th>Email</th>\n",
       "      <th>Phone number</th>\n",
       "      <th>Your Current Location?</th>\n",
       "      <th>We have started working from office, and we expect you to work from office. Hope its good with you.</th>\n",
       "      <th>Why you are looking forward to a new job opportunity?</th>\n",
       "      <th>...</th>\n",
       "      <th>What is your Notice Period?</th>\n",
       "      <th>Can you please describe about yourself and why do you think you are a fit for this role?</th>\n",
       "      <th>On a scale of 10, how much you will rate your self for your Communication skill?</th>\n",
       "      <th>On a scale of 10, how much you will rate your self for being a Team player?</th>\n",
       "      <th>On a scale of 10, how much you will rate yourself for your domain expertise?</th>\n",
       "      <th>According to you, what five skills are required for being being a good team player?</th>\n",
       "      <th>A movie that made you learn life lessons -</th>\n",
       "      <th>100 m sprint or a Marathon – What’s your pick and why?</th>\n",
       "      <th>How do you define an Ideal Work Environment?</th>\n",
       "      <th>Unnamed: 22</th>\n",
       "    </tr>\n",
       "  </thead>\n",
       "  <tbody>\n",
       "    <tr>\n",
       "      <th>0</th>\n",
       "      <td>2022-09-09 11:42:31</td>\n",
       "      <td>Not fit</td>\n",
       "      <td>LinkedIn</td>\n",
       "      <td>Business Analyst</td>\n",
       "      <td>AA</td>\n",
       "      <td>a@1</td>\n",
       "      <td>1230000</td>\n",
       "      <td>Ghaziabad UP</td>\n",
       "      <td>Good.</td>\n",
       "      <td>I have learned many new things in my current j...</td>\n",
       "      <td>...</td>\n",
       "      <td>&lt; 15 days</td>\n",
       "      <td>I believe I am qualified for this job because ...</td>\n",
       "      <td>8</td>\n",
       "      <td>9</td>\n",
       "      <td>8</td>\n",
       "      <td>1. Understand the role. \\n2. Collaboration. \\n...</td>\n",
       "      <td>There are many inspiring movies &amp; the learning...</td>\n",
       "      <td>I would say a Marathon as it defines your life...</td>\n",
       "      <td>There are many things I can write here about t...</td>\n",
       "      <td>NaN</td>\n",
       "    </tr>\n",
       "    <tr>\n",
       "      <th>1</th>\n",
       "      <td>2022-09-09 13:07:35</td>\n",
       "      <td>NaN</td>\n",
       "      <td>Whatsapp</td>\n",
       "      <td>Sr Digital Marketing executive</td>\n",
       "      <td>11</td>\n",
       "      <td>a@2</td>\n",
       "      <td>1230001</td>\n",
       "      <td>Mumbai</td>\n",
       "      <td>yes</td>\n",
       "      <td>I want to advance my skill sets level and also...</td>\n",
       "      <td>...</td>\n",
       "      <td>2 months</td>\n",
       "      <td>I certainly believe I have required skillsets ...</td>\n",
       "      <td>8</td>\n",
       "      <td>8</td>\n",
       "      <td>7</td>\n",
       "      <td>Communication , Good listener, proactiveness, ...</td>\n",
       "      <td>Bhaag mikha bhaag - no matter of the obstacles...</td>\n",
       "      <td>Marathon - Take as an example of marathon as l...</td>\n",
       "      <td>Ideal work environment to me is something wher...</td>\n",
       "      <td>NaN</td>\n",
       "    </tr>\n",
       "  </tbody>\n",
       "</table>\n",
       "<p>2 rows × 23 columns</p>\n",
       "</div>"
      ],
      "text/plain": [
       "             Timestamp  Comment Source of Application-  \\\n",
       "0  2022-09-09 11:42:31  Not fit               LinkedIn   \n",
       "1  2022-09-09 13:07:35      NaN               Whatsapp   \n",
       "\n",
       "         Applied for the role of- Full Name Email  Phone number  \\\n",
       "0                Business Analyst        AA   a@1       1230000   \n",
       "1  Sr Digital Marketing executive        11   a@2       1230001   \n",
       "\n",
       "  Your Current Location?  \\\n",
       "0           Ghaziabad UP   \n",
       "1                 Mumbai   \n",
       "\n",
       "  We have started working from office, and we expect you to work from office. Hope its good with you.  \\\n",
       "0                                              Good.                                                    \n",
       "1                                                yes                                                    \n",
       "\n",
       "  Why you are looking forward to a new job opportunity?  ...  \\\n",
       "0  I have learned many new things in my current j...     ...   \n",
       "1  I want to advance my skill sets level and also...     ...   \n",
       "\n",
       "  What is your Notice Period?  \\\n",
       "0                   < 15 days   \n",
       "1                    2 months   \n",
       "\n",
       "  Can you please describe about yourself and why do you think you are a fit for this role?  \\\n",
       "0  I believe I am qualified for this job because ...                                         \n",
       "1  I certainly believe I have required skillsets ...                                         \n",
       "\n",
       "  On a scale of 10, how much you will rate your self for your Communication skill?  \\\n",
       "0                                                  8                                 \n",
       "1                                                  8                                 \n",
       "\n",
       "  On a scale of 10, how much you will rate your self for being a Team player?  \\\n",
       "0                                                  9                            \n",
       "1                                                  8                            \n",
       "\n",
       "  On a scale of 10, how much you will rate yourself for your domain expertise?  \\\n",
       "0                                                  8                             \n",
       "1                                                  7                             \n",
       "\n",
       "   According to you, what five skills are required for being being a good team player?  \\\n",
       "0  1. Understand the role. \\n2. Collaboration. \\n...                                     \n",
       "1  Communication , Good listener, proactiveness, ...                                     \n",
       "\n",
       "          A movie that made you learn life lessons -  \\\n",
       "0  There are many inspiring movies & the learning...   \n",
       "1  Bhaag mikha bhaag - no matter of the obstacles...   \n",
       "\n",
       "   100 m sprint or a Marathon – What’s your pick and why?  \\\n",
       "0  I would say a Marathon as it defines your life...        \n",
       "1  Marathon - Take as an example of marathon as l...        \n",
       "\n",
       "        How do you define an Ideal Work Environment? Unnamed: 22  \n",
       "0  There are many things I can write here about t...         NaN  \n",
       "1  Ideal work environment to me is something wher...         NaN  \n",
       "\n",
       "[2 rows x 23 columns]"
      ]
     },
     "execution_count": 398,
     "metadata": {},
     "output_type": "execute_result"
    }
   ],
   "source": [
    "df.head(2)  # displaying upper two rows"
   ]
  },
  {
   "cell_type": "code",
   "execution_count": 399,
   "id": "03b1fe8f-f85a-411e-a947-c85a30357c38",
   "metadata": {},
   "outputs": [
    {
     "name": "stdout",
     "output_type": "stream",
     "text": [
      "<class 'pandas.core.frame.DataFrame'>\n",
      "RangeIndex: 321 entries, 0 to 320\n",
      "Data columns (total 23 columns):\n",
      " #   Column                                                                                               Non-Null Count  Dtype \n",
      "---  ------                                                                                               --------------  ----- \n",
      " 0   Timestamp                                                                                            321 non-null    object\n",
      " 1   Comment                                                                                              186 non-null    object\n",
      " 2   Source of Application-                                                                               320 non-null    object\n",
      " 3   Applied for the role of-                                                                             319 non-null    object\n",
      " 4   Full Name                                                                                            321 non-null    object\n",
      " 5   Email                                                                                                321 non-null    object\n",
      " 6   Phone number                                                                                         321 non-null    int64 \n",
      " 7   Your Current Location?                                                                               321 non-null    object\n",
      " 8   We have started working from office, and we expect you to work from office. Hope its good with you.  321 non-null    object\n",
      " 9   Why you are looking forward to a new job opportunity?                                                321 non-null    object\n",
      " 10  Overall years of Experience in domain?                                                               321 non-null    object\n",
      " 11  Your Current CTC (in terms of LPA)                                                                   316 non-null    object\n",
      " 12  Expected CTC (in terms of LPA)                                                                       321 non-null    object\n",
      " 13  What is your Notice Period?                                                                          312 non-null    object\n",
      " 14  Can you please describe about yourself and why do you think you are a fit for this role?             321 non-null    object\n",
      " 15  On a scale of 10, how much you will rate your self for your Communication skill?                     321 non-null    int64 \n",
      " 16  On a scale of 10, how much you will rate your self for being a Team player?                          321 non-null    int64 \n",
      " 17  On a scale of 10, how much you will rate yourself for your domain expertise?                         321 non-null    int64 \n",
      " 18  According to you, what five skills are required for being being a good team player?                  321 non-null    object\n",
      " 19  A movie that made you learn life lessons -                                                           318 non-null    object\n",
      " 20  100 m sprint or a Marathon – What’s your pick and why?                                               317 non-null    object\n",
      " 21  How do you define an Ideal Work Environment?                                                         320 non-null    object\n",
      " 22  Unnamed: 22                                                                                          5 non-null      object\n",
      "dtypes: int64(4), object(19)\n",
      "memory usage: 57.8+ KB\n"
     ]
    }
   ],
   "source": [
    "df.info()     # info() is gives the informations about the dataset"
   ]
  },
  {
   "cell_type": "code",
   "execution_count": 400,
   "id": "284355b3-f7fb-4e62-b000-b415a64770d1",
   "metadata": {},
   "outputs": [],
   "source": [
    "# columns to drop which is not required for the recommendation\n",
    "columns_to_drop =['Timestamp','Comment', 'Source of Application-','Full Name', 'Phone number', 'Your Current CTC (in terms of LPA)','According to you, what five skills are required for being being a good team player?','A movie that made you learn life lessons -', '100 m sprint or a Marathon – What’s your pick and why?','How do you define an Ideal Work Environment?','Unnamed: 22','On a scale of 10, how much you will rate your self for being a Team player?']"
   ]
  },
  {
   "cell_type": "code",
   "execution_count": 401,
   "id": "e5e2ca95-e6e6-432d-8413-812a3243ff6e",
   "metadata": {},
   "outputs": [],
   "source": [
    "df = df.drop(columns_to_drop, axis=1)   # drop() it is used to drop the coulumns"
   ]
  },
  {
   "cell_type": "code",
   "execution_count": 402,
   "id": "95f4b663-90ff-4cf7-9008-8a9ab37d6586",
   "metadata": {},
   "outputs": [
    {
     "data": {
      "text/html": [
       "<div>\n",
       "<style scoped>\n",
       "    .dataframe tbody tr th:only-of-type {\n",
       "        vertical-align: middle;\n",
       "    }\n",
       "\n",
       "    .dataframe tbody tr th {\n",
       "        vertical-align: top;\n",
       "    }\n",
       "\n",
       "    .dataframe thead th {\n",
       "        text-align: right;\n",
       "    }\n",
       "</style>\n",
       "<table border=\"1\" class=\"dataframe\">\n",
       "  <thead>\n",
       "    <tr style=\"text-align: right;\">\n",
       "      <th></th>\n",
       "      <th>Applied for the role of-</th>\n",
       "      <th>Email</th>\n",
       "      <th>Your Current Location?</th>\n",
       "      <th>We have started working from office, and we expect you to work from office. Hope its good with you.</th>\n",
       "      <th>Why you are looking forward to a new job opportunity?</th>\n",
       "      <th>Overall years of Experience in domain?</th>\n",
       "      <th>Expected CTC (in terms of LPA)</th>\n",
       "      <th>What is your Notice Period?</th>\n",
       "      <th>Can you please describe about yourself and why do you think you are a fit for this role?</th>\n",
       "      <th>On a scale of 10, how much you will rate your self for your Communication skill?</th>\n",
       "      <th>On a scale of 10, how much you will rate yourself for your domain expertise?</th>\n",
       "    </tr>\n",
       "  </thead>\n",
       "  <tbody>\n",
       "    <tr>\n",
       "      <th>0</th>\n",
       "      <td>Business Analyst</td>\n",
       "      <td>a@1</td>\n",
       "      <td>Ghaziabad UP</td>\n",
       "      <td>Good.</td>\n",
       "      <td>I have learned many new things in my current j...</td>\n",
       "      <td>1.4 years</td>\n",
       "      <td>5.8</td>\n",
       "      <td>&lt; 15 days</td>\n",
       "      <td>I believe I am qualified for this job because ...</td>\n",
       "      <td>8</td>\n",
       "      <td>8</td>\n",
       "    </tr>\n",
       "    <tr>\n",
       "      <th>1</th>\n",
       "      <td>Sr Digital Marketing executive</td>\n",
       "      <td>a@2</td>\n",
       "      <td>Mumbai</td>\n",
       "      <td>yes</td>\n",
       "      <td>I want to advance my skill sets level and also...</td>\n",
       "      <td>2.5 years</td>\n",
       "      <td>6Lac</td>\n",
       "      <td>2 months</td>\n",
       "      <td>I certainly believe I have required skillsets ...</td>\n",
       "      <td>8</td>\n",
       "      <td>7</td>\n",
       "    </tr>\n",
       "  </tbody>\n",
       "</table>\n",
       "</div>"
      ],
      "text/plain": [
       "         Applied for the role of- Email Your Current Location?  \\\n",
       "0                Business Analyst   a@1           Ghaziabad UP   \n",
       "1  Sr Digital Marketing executive   a@2                 Mumbai   \n",
       "\n",
       "  We have started working from office, and we expect you to work from office. Hope its good with you.  \\\n",
       "0                                              Good.                                                    \n",
       "1                                                yes                                                    \n",
       "\n",
       "  Why you are looking forward to a new job opportunity?  \\\n",
       "0  I have learned many new things in my current j...      \n",
       "1  I want to advance my skill sets level and also...      \n",
       "\n",
       "  Overall years of Experience in domain? Expected CTC (in terms of LPA)  \\\n",
       "0                              1.4 years                            5.8   \n",
       "1                              2.5 years                           6Lac   \n",
       "\n",
       "  What is your Notice Period?  \\\n",
       "0                   < 15 days   \n",
       "1                    2 months   \n",
       "\n",
       "  Can you please describe about yourself and why do you think you are a fit for this role?  \\\n",
       "0  I believe I am qualified for this job because ...                                         \n",
       "1  I certainly believe I have required skillsets ...                                         \n",
       "\n",
       "   On a scale of 10, how much you will rate your self for your Communication skill?  \\\n",
       "0                                                  8                                  \n",
       "1                                                  8                                  \n",
       "\n",
       "   On a scale of 10, how much you will rate yourself for your domain expertise?  \n",
       "0                                                  8                             \n",
       "1                                                  7                             "
      ]
     },
     "execution_count": 402,
     "metadata": {},
     "output_type": "execute_result"
    }
   ],
   "source": [
    "df.head(2)"
   ]
  },
  {
   "cell_type": "code",
   "execution_count": 403,
   "id": "2a52af02-295c-4162-83db-24897684938b",
   "metadata": {},
   "outputs": [
    {
     "data": {
      "text/plain": [
       "Index(['Applied for the role of-', 'Email', 'Your Current Location?',\n",
       "       'We have started working from office, and we expect you to work from office. Hope its good with you.',\n",
       "       'Why you are looking forward to a new job opportunity?',\n",
       "       'Overall years of Experience in domain?',\n",
       "       'Expected CTC (in terms of LPA)', 'What is your Notice Period?',\n",
       "       'Can you please describe about yourself and why do you think you are a fit for this role?',\n",
       "       'On a scale of 10, how much you will rate your self for your Communication skill?',\n",
       "       'On a scale of 10, how much you will rate yourself for your domain expertise?'],\n",
       "      dtype='object')"
      ]
     },
     "execution_count": 403,
     "metadata": {},
     "output_type": "execute_result"
    }
   ],
   "source": [
    "df.columns"
   ]
  },
  {
   "cell_type": "code",
   "execution_count": 404,
   "id": "36a3bbf9-5bad-4527-bc9e-91083c523c5c",
   "metadata": {},
   "outputs": [
    {
     "data": {
      "text/plain": [
       "Applied for the role of-                                                                               2\n",
       "Email                                                                                                  0\n",
       "Your Current Location?                                                                                 0\n",
       "We have started working from office, and we expect you to work from office. Hope its good with you.    0\n",
       "Why you are looking forward to a new job opportunity?                                                  0\n",
       "Overall years of Experience in domain?                                                                 0\n",
       "Expected CTC (in terms of LPA)                                                                         0\n",
       "What is your Notice Period?                                                                            9\n",
       "Can you please describe about yourself and why do you think you are a fit for this role?               0\n",
       "On a scale of 10, how much you will rate your self for your Communication skill?                       0\n",
       "On a scale of 10, how much you will rate yourself for your domain expertise?                           0\n",
       "dtype: int64"
      ]
     },
     "execution_count": 404,
     "metadata": {},
     "output_type": "execute_result"
    }
   ],
   "source": [
    "df.isnull().sum()    # to check if there is any null values avaiable in the dataset"
   ]
  },
  {
   "cell_type": "code",
   "execution_count": 405,
   "id": "7c541862-515f-454a-adb3-b0475ec0f07d",
   "metadata": {},
   "outputs": [],
   "source": [
    "# fill null values"
   ]
  },
  {
   "cell_type": "code",
   "execution_count": 406,
   "id": "82656ea2-b1ad-4a9d-afa2-ec6392a20009",
   "metadata": {},
   "outputs": [],
   "source": [
    "var = df['Applied for the role of-'].mode()[0]"
   ]
  },
  {
   "cell_type": "code",
   "execution_count": 407,
   "id": "9315cca9-afbe-4d25-b779-6376e1d6a964",
   "metadata": {},
   "outputs": [],
   "source": [
    "df['Applied for the role of-']= df['Applied for the role of-'].fillna(var)"
   ]
  },
  {
   "cell_type": "code",
   "execution_count": 408,
   "id": "dc67c3ea-1f58-44c1-86a1-9c768cc413fb",
   "metadata": {},
   "outputs": [
    {
     "data": {
      "text/plain": [
       "What is your Notice Period?\n",
       "30 days                                         32\n",
       "15 days                                         30\n",
       "0                                               27\n",
       "1 month                                         18\n",
       "30                                              16\n",
       "                                                ..\n",
       "Immediate Join                                   1\n",
       "15 to 30 days                                    1\n",
       "Immedaite Joiner                                 1\n",
       "Served my notice period can join immediately     1\n",
       "7                                                1\n",
       "Name: count, Length: 122, dtype: int64"
      ]
     },
     "execution_count": 408,
     "metadata": {},
     "output_type": "execute_result"
    }
   ],
   "source": [
    "df['What is your Notice Period?'].value_counts()"
   ]
  },
  {
   "cell_type": "code",
   "execution_count": 409,
   "id": "8583293c-d21c-42a5-9a4d-676acfca487e",
   "metadata": {},
   "outputs": [],
   "source": [
    "mode_value = df['What is your Notice Period?'].mode()[0]"
   ]
  },
  {
   "cell_type": "code",
   "execution_count": 410,
   "id": "61d90d2a-e4a5-4d7f-9ab8-3b67dab1ccc6",
   "metadata": {},
   "outputs": [],
   "source": [
    "df['What is your Notice Period?'] = df['What is your Notice Period?'].fillna(mode_value)"
   ]
  },
  {
   "cell_type": "code",
   "execution_count": 411,
   "id": "0b5eb2f8-ec00-4c06-bbaa-c4da7d86cc20",
   "metadata": {},
   "outputs": [
    {
     "data": {
      "text/plain": [
       "Applied for the role of-                                                                               0\n",
       "Email                                                                                                  0\n",
       "Your Current Location?                                                                                 0\n",
       "We have started working from office, and we expect you to work from office. Hope its good with you.    0\n",
       "Why you are looking forward to a new job opportunity?                                                  0\n",
       "Overall years of Experience in domain?                                                                 0\n",
       "Expected CTC (in terms of LPA)                                                                         0\n",
       "What is your Notice Period?                                                                            0\n",
       "Can you please describe about yourself and why do you think you are a fit for this role?               0\n",
       "On a scale of 10, how much you will rate your self for your Communication skill?                       0\n",
       "On a scale of 10, how much you will rate yourself for your domain expertise?                           0\n",
       "dtype: int64"
      ]
     },
     "execution_count": 411,
     "metadata": {},
     "output_type": "execute_result"
    }
   ],
   "source": [
    "df.isnull().sum()"
   ]
  },
  {
   "cell_type": "code",
   "execution_count": 412,
   "id": "46128b1a-bb48-4004-b46d-7e14f69d6fc1",
   "metadata": {},
   "outputs": [
    {
     "data": {
      "text/html": [
       "<div>\n",
       "<style scoped>\n",
       "    .dataframe tbody tr th:only-of-type {\n",
       "        vertical-align: middle;\n",
       "    }\n",
       "\n",
       "    .dataframe tbody tr th {\n",
       "        vertical-align: top;\n",
       "    }\n",
       "\n",
       "    .dataframe thead th {\n",
       "        text-align: right;\n",
       "    }\n",
       "</style>\n",
       "<table border=\"1\" class=\"dataframe\">\n",
       "  <thead>\n",
       "    <tr style=\"text-align: right;\">\n",
       "      <th></th>\n",
       "      <th>Applied for the role of-</th>\n",
       "      <th>Email</th>\n",
       "      <th>Your Current Location?</th>\n",
       "      <th>We have started working from office, and we expect you to work from office. Hope its good with you.</th>\n",
       "      <th>Why you are looking forward to a new job opportunity?</th>\n",
       "      <th>Overall years of Experience in domain?</th>\n",
       "      <th>Expected CTC (in terms of LPA)</th>\n",
       "      <th>What is your Notice Period?</th>\n",
       "      <th>Can you please describe about yourself and why do you think you are a fit for this role?</th>\n",
       "      <th>On a scale of 10, how much you will rate your self for your Communication skill?</th>\n",
       "      <th>On a scale of 10, how much you will rate yourself for your domain expertise?</th>\n",
       "    </tr>\n",
       "  </thead>\n",
       "  <tbody>\n",
       "    <tr>\n",
       "      <th>0</th>\n",
       "      <td>Business Analyst</td>\n",
       "      <td>a@1</td>\n",
       "      <td>Ghaziabad UP</td>\n",
       "      <td>Good.</td>\n",
       "      <td>I have learned many new things in my current j...</td>\n",
       "      <td>1.4 years</td>\n",
       "      <td>5.8</td>\n",
       "      <td>&lt; 15 days</td>\n",
       "      <td>I believe I am qualified for this job because ...</td>\n",
       "      <td>8</td>\n",
       "      <td>8</td>\n",
       "    </tr>\n",
       "    <tr>\n",
       "      <th>1</th>\n",
       "      <td>Sr Digital Marketing executive</td>\n",
       "      <td>a@2</td>\n",
       "      <td>Mumbai</td>\n",
       "      <td>yes</td>\n",
       "      <td>I want to advance my skill sets level and also...</td>\n",
       "      <td>2.5 years</td>\n",
       "      <td>6Lac</td>\n",
       "      <td>2 months</td>\n",
       "      <td>I certainly believe I have required skillsets ...</td>\n",
       "      <td>8</td>\n",
       "      <td>7</td>\n",
       "    </tr>\n",
       "  </tbody>\n",
       "</table>\n",
       "</div>"
      ],
      "text/plain": [
       "         Applied for the role of- Email Your Current Location?  \\\n",
       "0                Business Analyst   a@1           Ghaziabad UP   \n",
       "1  Sr Digital Marketing executive   a@2                 Mumbai   \n",
       "\n",
       "  We have started working from office, and we expect you to work from office. Hope its good with you.  \\\n",
       "0                                              Good.                                                    \n",
       "1                                                yes                                                    \n",
       "\n",
       "  Why you are looking forward to a new job opportunity?  \\\n",
       "0  I have learned many new things in my current j...      \n",
       "1  I want to advance my skill sets level and also...      \n",
       "\n",
       "  Overall years of Experience in domain? Expected CTC (in terms of LPA)  \\\n",
       "0                              1.4 years                            5.8   \n",
       "1                              2.5 years                           6Lac   \n",
       "\n",
       "  What is your Notice Period?  \\\n",
       "0                   < 15 days   \n",
       "1                    2 months   \n",
       "\n",
       "  Can you please describe about yourself and why do you think you are a fit for this role?  \\\n",
       "0  I believe I am qualified for this job because ...                                         \n",
       "1  I certainly believe I have required skillsets ...                                         \n",
       "\n",
       "   On a scale of 10, how much you will rate your self for your Communication skill?  \\\n",
       "0                                                  8                                  \n",
       "1                                                  8                                  \n",
       "\n",
       "   On a scale of 10, how much you will rate yourself for your domain expertise?  \n",
       "0                                                  8                             \n",
       "1                                                  7                             "
      ]
     },
     "execution_count": 412,
     "metadata": {},
     "output_type": "execute_result"
    }
   ],
   "source": [
    "df.head(2)"
   ]
  },
  {
   "cell_type": "code",
   "execution_count": 413,
   "id": "5514185c-bdb5-45d5-bc6a-f99689770506",
   "metadata": {},
   "outputs": [
    {
     "data": {
      "text/plain": [
       "0"
      ]
     },
     "execution_count": 413,
     "metadata": {},
     "output_type": "execute_result"
    }
   ],
   "source": [
    "df.duplicated().sum()   # to check for any duplicate row present in the dataset"
   ]
  },
  {
   "cell_type": "code",
   "execution_count": 414,
   "id": "e97c3575-7394-4578-b484-520e8a9ea756",
   "metadata": {},
   "outputs": [],
   "source": [
    "# As python is a case sensitive language that is we have to convert all the text into lower case."
   ]
  },
  {
   "cell_type": "code",
   "execution_count": 415,
   "id": "aeb0331c-ebd6-4788-abf1-6c3d4c98c2f3",
   "metadata": {},
   "outputs": [],
   "source": [
    "df['Applied for the role of-']=df['Applied for the role of-'].apply(lambda x: x.lower())\n",
    "df['Your Current Location?']=df['Your Current Location?'].apply(lambda x: x.lower())\n",
    "df['Why you are looking forward to a new job opportunity?']=df['Why you are looking forward to a new job opportunity?'].apply(lambda x: x.lower())\n",
    "df['Can you please describe about yourself and why do you think you are a fit for this role?']=df['Can you please describe about yourself and why do you think you are a fit for this role?'].apply(lambda x: x.lower())\n",
    "df['We have started working from office, and we expect you to work from office. Hope its good with you.']=df['We have started working from office, and we expect you to work from office. Hope its good with you.'].apply(lambda x: x.lower())"
   ]
  },
  {
   "cell_type": "code",
   "execution_count": 416,
   "id": "d62b6bea-4d16-4b7f-9ad3-fcd3503a964e",
   "metadata": {},
   "outputs": [
    {
     "data": {
      "text/html": [
       "<div>\n",
       "<style scoped>\n",
       "    .dataframe tbody tr th:only-of-type {\n",
       "        vertical-align: middle;\n",
       "    }\n",
       "\n",
       "    .dataframe tbody tr th {\n",
       "        vertical-align: top;\n",
       "    }\n",
       "\n",
       "    .dataframe thead th {\n",
       "        text-align: right;\n",
       "    }\n",
       "</style>\n",
       "<table border=\"1\" class=\"dataframe\">\n",
       "  <thead>\n",
       "    <tr style=\"text-align: right;\">\n",
       "      <th></th>\n",
       "      <th>Applied for the role of-</th>\n",
       "      <th>Email</th>\n",
       "      <th>Your Current Location?</th>\n",
       "      <th>We have started working from office, and we expect you to work from office. Hope its good with you.</th>\n",
       "      <th>Why you are looking forward to a new job opportunity?</th>\n",
       "      <th>Overall years of Experience in domain?</th>\n",
       "      <th>Expected CTC (in terms of LPA)</th>\n",
       "      <th>What is your Notice Period?</th>\n",
       "      <th>Can you please describe about yourself and why do you think you are a fit for this role?</th>\n",
       "      <th>On a scale of 10, how much you will rate your self for your Communication skill?</th>\n",
       "      <th>On a scale of 10, how much you will rate yourself for your domain expertise?</th>\n",
       "    </tr>\n",
       "  </thead>\n",
       "  <tbody>\n",
       "    <tr>\n",
       "      <th>0</th>\n",
       "      <td>business analyst</td>\n",
       "      <td>a@1</td>\n",
       "      <td>ghaziabad up</td>\n",
       "      <td>good.</td>\n",
       "      <td>i have learned many new things in my current j...</td>\n",
       "      <td>1.4 years</td>\n",
       "      <td>5.8</td>\n",
       "      <td>&lt; 15 days</td>\n",
       "      <td>i believe i am qualified for this job because ...</td>\n",
       "      <td>8</td>\n",
       "      <td>8</td>\n",
       "    </tr>\n",
       "  </tbody>\n",
       "</table>\n",
       "</div>"
      ],
      "text/plain": [
       "  Applied for the role of- Email Your Current Location?  \\\n",
       "0         business analyst   a@1           ghaziabad up   \n",
       "\n",
       "  We have started working from office, and we expect you to work from office. Hope its good with you.  \\\n",
       "0                                              good.                                                    \n",
       "\n",
       "  Why you are looking forward to a new job opportunity?  \\\n",
       "0  i have learned many new things in my current j...      \n",
       "\n",
       "  Overall years of Experience in domain? Expected CTC (in terms of LPA)  \\\n",
       "0                              1.4 years                            5.8   \n",
       "\n",
       "  What is your Notice Period?  \\\n",
       "0                   < 15 days   \n",
       "\n",
       "  Can you please describe about yourself and why do you think you are a fit for this role?  \\\n",
       "0  i believe i am qualified for this job because ...                                         \n",
       "\n",
       "   On a scale of 10, how much you will rate your self for your Communication skill?  \\\n",
       "0                                                  8                                  \n",
       "\n",
       "   On a scale of 10, how much you will rate yourself for your domain expertise?  \n",
       "0                                                  8                             "
      ]
     },
     "execution_count": 416,
     "metadata": {},
     "output_type": "execute_result"
    }
   ],
   "source": [
    "df.head(1)"
   ]
  },
  {
   "cell_type": "code",
   "execution_count": 417,
   "id": "e83d1b03-f6ae-4161-99c0-67f2b0f70dd9",
   "metadata": {},
   "outputs": [],
   "source": [
    "df['candidate_details'] = df['Applied for the role of-']+' '+df['Your Current Location?']+' '+df['We have started working from office, and we expect you to work from office. Hope its good with you.']+' '+df['Why you are looking forward to a new job opportunity?']+' '+df['Can you please describe about yourself and why do you think you are a fit for this role?']"
   ]
  },
  {
   "cell_type": "code",
   "execution_count": 418,
   "id": "be43dc0d-5b2e-4ccb-85a8-9d02afad0810",
   "metadata": {},
   "outputs": [
    {
     "data": {
      "text/html": [
       "<div>\n",
       "<style scoped>\n",
       "    .dataframe tbody tr th:only-of-type {\n",
       "        vertical-align: middle;\n",
       "    }\n",
       "\n",
       "    .dataframe tbody tr th {\n",
       "        vertical-align: top;\n",
       "    }\n",
       "\n",
       "    .dataframe thead th {\n",
       "        text-align: right;\n",
       "    }\n",
       "</style>\n",
       "<table border=\"1\" class=\"dataframe\">\n",
       "  <thead>\n",
       "    <tr style=\"text-align: right;\">\n",
       "      <th></th>\n",
       "      <th>Applied for the role of-</th>\n",
       "      <th>Email</th>\n",
       "      <th>Your Current Location?</th>\n",
       "      <th>We have started working from office, and we expect you to work from office. Hope its good with you.</th>\n",
       "      <th>Why you are looking forward to a new job opportunity?</th>\n",
       "      <th>Overall years of Experience in domain?</th>\n",
       "      <th>Expected CTC (in terms of LPA)</th>\n",
       "      <th>What is your Notice Period?</th>\n",
       "      <th>Can you please describe about yourself and why do you think you are a fit for this role?</th>\n",
       "      <th>On a scale of 10, how much you will rate your self for your Communication skill?</th>\n",
       "      <th>On a scale of 10, how much you will rate yourself for your domain expertise?</th>\n",
       "      <th>candidate_details</th>\n",
       "    </tr>\n",
       "  </thead>\n",
       "  <tbody>\n",
       "    <tr>\n",
       "      <th>0</th>\n",
       "      <td>business analyst</td>\n",
       "      <td>a@1</td>\n",
       "      <td>ghaziabad up</td>\n",
       "      <td>good.</td>\n",
       "      <td>i have learned many new things in my current j...</td>\n",
       "      <td>1.4 years</td>\n",
       "      <td>5.8</td>\n",
       "      <td>&lt; 15 days</td>\n",
       "      <td>i believe i am qualified for this job because ...</td>\n",
       "      <td>8</td>\n",
       "      <td>8</td>\n",
       "      <td>business analyst ghaziabad up good. i have lea...</td>\n",
       "    </tr>\n",
       "    <tr>\n",
       "      <th>1</th>\n",
       "      <td>sr digital marketing executive</td>\n",
       "      <td>a@2</td>\n",
       "      <td>mumbai</td>\n",
       "      <td>yes</td>\n",
       "      <td>i want to advance my skill sets level and also...</td>\n",
       "      <td>2.5 years</td>\n",
       "      <td>6Lac</td>\n",
       "      <td>2 months</td>\n",
       "      <td>i certainly believe i have required skillsets ...</td>\n",
       "      <td>8</td>\n",
       "      <td>7</td>\n",
       "      <td>sr digital marketing executive mumbai yes i wa...</td>\n",
       "    </tr>\n",
       "  </tbody>\n",
       "</table>\n",
       "</div>"
      ],
      "text/plain": [
       "         Applied for the role of- Email Your Current Location?  \\\n",
       "0                business analyst   a@1           ghaziabad up   \n",
       "1  sr digital marketing executive   a@2                 mumbai   \n",
       "\n",
       "  We have started working from office, and we expect you to work from office. Hope its good with you.  \\\n",
       "0                                              good.                                                    \n",
       "1                                                yes                                                    \n",
       "\n",
       "  Why you are looking forward to a new job opportunity?  \\\n",
       "0  i have learned many new things in my current j...      \n",
       "1  i want to advance my skill sets level and also...      \n",
       "\n",
       "  Overall years of Experience in domain? Expected CTC (in terms of LPA)  \\\n",
       "0                              1.4 years                            5.8   \n",
       "1                              2.5 years                           6Lac   \n",
       "\n",
       "  What is your Notice Period?  \\\n",
       "0                   < 15 days   \n",
       "1                    2 months   \n",
       "\n",
       "  Can you please describe about yourself and why do you think you are a fit for this role?  \\\n",
       "0  i believe i am qualified for this job because ...                                         \n",
       "1  i certainly believe i have required skillsets ...                                         \n",
       "\n",
       "   On a scale of 10, how much you will rate your self for your Communication skill?  \\\n",
       "0                                                  8                                  \n",
       "1                                                  8                                  \n",
       "\n",
       "   On a scale of 10, how much you will rate yourself for your domain expertise?  \\\n",
       "0                                                  8                              \n",
       "1                                                  7                              \n",
       "\n",
       "                                   candidate_details  \n",
       "0  business analyst ghaziabad up good. i have lea...  \n",
       "1  sr digital marketing executive mumbai yes i wa...  "
      ]
     },
     "execution_count": 418,
     "metadata": {},
     "output_type": "execute_result"
    }
   ],
   "source": [
    "df.head(2)"
   ]
  },
  {
   "cell_type": "code",
   "execution_count": 419,
   "id": "4650c7e3-9c57-4bfa-9c9b-72e4ecc1b35c",
   "metadata": {},
   "outputs": [],
   "source": [
    "# adding all text in a single columns to create candidate details columns"
   ]
  },
  {
   "cell_type": "code",
   "execution_count": 420,
   "id": "d67b58d6-ec28-4b93-807a-6aaa8e621fd3",
   "metadata": {},
   "outputs": [],
   "source": [
    "new_df = df[['Email','Overall years of Experience in domain?','Expected CTC (in terms of LPA)','What is your Notice Period?','On a scale of 10, how much you will rate your self for your Communication skill?','On a scale of 10, how much you will rate yourself for your domain expertise?','candidate_details']]"
   ]
  },
  {
   "cell_type": "code",
   "execution_count": 421,
   "id": "c6d4e529-39a8-4fde-97f0-06e33cde7445",
   "metadata": {},
   "outputs": [
    {
     "data": {
      "text/html": [
       "<div>\n",
       "<style scoped>\n",
       "    .dataframe tbody tr th:only-of-type {\n",
       "        vertical-align: middle;\n",
       "    }\n",
       "\n",
       "    .dataframe tbody tr th {\n",
       "        vertical-align: top;\n",
       "    }\n",
       "\n",
       "    .dataframe thead th {\n",
       "        text-align: right;\n",
       "    }\n",
       "</style>\n",
       "<table border=\"1\" class=\"dataframe\">\n",
       "  <thead>\n",
       "    <tr style=\"text-align: right;\">\n",
       "      <th></th>\n",
       "      <th>Email</th>\n",
       "      <th>Overall years of Experience in domain?</th>\n",
       "      <th>Expected CTC (in terms of LPA)</th>\n",
       "      <th>What is your Notice Period?</th>\n",
       "      <th>On a scale of 10, how much you will rate your self for your Communication skill?</th>\n",
       "      <th>On a scale of 10, how much you will rate yourself for your domain expertise?</th>\n",
       "      <th>candidate_details</th>\n",
       "    </tr>\n",
       "  </thead>\n",
       "  <tbody>\n",
       "    <tr>\n",
       "      <th>0</th>\n",
       "      <td>a@1</td>\n",
       "      <td>1.4 years</td>\n",
       "      <td>5.8</td>\n",
       "      <td>&lt; 15 days</td>\n",
       "      <td>8</td>\n",
       "      <td>8</td>\n",
       "      <td>business analyst ghaziabad up good. i have lea...</td>\n",
       "    </tr>\n",
       "    <tr>\n",
       "      <th>1</th>\n",
       "      <td>a@2</td>\n",
       "      <td>2.5 years</td>\n",
       "      <td>6Lac</td>\n",
       "      <td>2 months</td>\n",
       "      <td>8</td>\n",
       "      <td>7</td>\n",
       "      <td>sr digital marketing executive mumbai yes i wa...</td>\n",
       "    </tr>\n",
       "  </tbody>\n",
       "</table>\n",
       "</div>"
      ],
      "text/plain": [
       "  Email Overall years of Experience in domain? Expected CTC (in terms of LPA)  \\\n",
       "0   a@1                              1.4 years                            5.8   \n",
       "1   a@2                              2.5 years                           6Lac   \n",
       "\n",
       "  What is your Notice Period?  \\\n",
       "0                   < 15 days   \n",
       "1                    2 months   \n",
       "\n",
       "   On a scale of 10, how much you will rate your self for your Communication skill?  \\\n",
       "0                                                  8                                  \n",
       "1                                                  8                                  \n",
       "\n",
       "   On a scale of 10, how much you will rate yourself for your domain expertise?  \\\n",
       "0                                                  8                              \n",
       "1                                                  7                              \n",
       "\n",
       "                                   candidate_details  \n",
       "0  business analyst ghaziabad up good. i have lea...  \n",
       "1  sr digital marketing executive mumbai yes i wa...  "
      ]
     },
     "execution_count": 421,
     "metadata": {},
     "output_type": "execute_result"
    }
   ],
   "source": [
    "new_df.head(2)"
   ]
  },
  {
   "cell_type": "code",
   "execution_count": 422,
   "id": "f7f97086-981c-471d-bab4-e5e87f060bc4",
   "metadata": {},
   "outputs": [
    {
     "data": {
      "text/plain": [
       "'business analyst ghaziabad up good. i have learned many new things in my current job & i can’t thank my first employer enough to guve me opportunity cause i was a fresher. but at the same time i think i am touching the roof now in my current job & would like to apply these new skills & learnings to a new opportunity. i believe i am qualified for this job because i have the required skills for this position & 1.4 years of experience to back it up. \\nwhile working i have also done some additional learnings through online teaching platforms like simplilearn & google. \\ni am dependable & goal oriented & since college i have worked in teams so i can say i am a good team player. \\nin my last project while i was meeting the client i asked for a specific requirement & i was not really sure about the time the back end team will take to fullfill this requirement. \\nbut i learned somewhere under promise over deliver so i was able to handle that case quite well.'"
      ]
     },
     "execution_count": 422,
     "metadata": {},
     "output_type": "execute_result"
    }
   ],
   "source": [
    "new_df['candidate_details'][0]"
   ]
  },
  {
   "cell_type": "code",
   "execution_count": 423,
   "id": "a3b1e9c4-58eb-4085-b6ef-04c61ad76354",
   "metadata": {},
   "outputs": [],
   "source": [
    "# machine learning algorithm\n",
    "from sklearn.feature_extraction.text import CountVectorizer\n",
    "cv=CountVectorizer(max_features=5000,stop_words='english')"
   ]
  },
  {
   "cell_type": "code",
   "execution_count": 424,
   "id": "a322b0d9-ca03-42f4-b714-00b3dae6f3ab",
   "metadata": {},
   "outputs": [],
   "source": [
    "vectors=cv.fit_transform(new_df['candidate_details']).toarray()"
   ]
  },
  {
   "cell_type": "code",
   "execution_count": 425,
   "id": "bfe466d8-eeb9-4dc3-bd0c-29bc9cfe04b0",
   "metadata": {},
   "outputs": [
    {
     "data": {
      "text/plain": [
       "2756"
      ]
     },
     "execution_count": 425,
     "metadata": {},
     "output_type": "execute_result"
    }
   ],
   "source": [
    "len(cv.get_feature_names_out())"
   ]
  },
  {
   "cell_type": "code",
   "execution_count": 426,
   "id": "032f9585-de19-45c5-a405-435d0e35802f",
   "metadata": {},
   "outputs": [],
   "source": [
    "# perform stemming\n",
    "from nltk.stem import PorterStemmer\n",
    "\n",
    "ps=PorterStemmer()\n",
    "\n",
    "def perform_stemming(text):\n",
    "    y=[]\n",
    "    for i in text.split():\n",
    "        y.append(ps.stem(i))\n",
    "  \n",
    "    return \" \".join(y)"
   ]
  },
  {
   "cell_type": "code",
   "execution_count": 427,
   "id": "a3bdf30d-a998-4b6d-b1ac-12f77b583e3f",
   "metadata": {},
   "outputs": [
    {
     "name": "stderr",
     "output_type": "stream",
     "text": [
      "C:\\Users\\Ashish Kumar Singh\\AppData\\Local\\Temp\\ipykernel_5300\\674649493.py:1: SettingWithCopyWarning: \n",
      "A value is trying to be set on a copy of a slice from a DataFrame.\n",
      "Try using .loc[row_indexer,col_indexer] = value instead\n",
      "\n",
      "See the caveats in the documentation: https://pandas.pydata.org/pandas-docs/stable/user_guide/indexing.html#returning-a-view-versus-a-copy\n",
      "  new_df['candidate_details']=new_df['candidate_details'].apply(perform_stemming)\n"
     ]
    }
   ],
   "source": [
    "new_df['candidate_details']=new_df['candidate_details'].apply(perform_stemming)"
   ]
  },
  {
   "cell_type": "code",
   "execution_count": 428,
   "id": "524a807f-96be-4328-9d63-e4e13661d4f6",
   "metadata": {},
   "outputs": [
    {
     "data": {
      "text/plain": [
       "'busi analyst ghaziabad up good. i have learn mani new thing in my current job & i can’t thank my first employ enough to guve me opportun caus i wa a fresher. but at the same time i think i am touch the roof now in my current job & would like to appli these new skill & learn to a new opportunity. i believ i am qualifi for thi job becaus i have the requir skill for thi posit & 1.4 year of experi to back it up. while work i have also done some addit learn through onlin teach platform like simplilearn & google. i am depend & goal orient & sinc colleg i have work in team so i can say i am a good team player. in my last project while i wa meet the client i ask for a specif requir & i wa not realli sure about the time the back end team will take to fullfil thi requirement. but i learn somewher under promis over deliv so i wa abl to handl that case quit well.'"
      ]
     },
     "execution_count": 428,
     "metadata": {},
     "output_type": "execute_result"
    }
   ],
   "source": [
    "new_df['candidate_details'][0]"
   ]
  },
  {
   "cell_type": "code",
   "execution_count": 429,
   "id": "023c9aa2-a872-4dfd-9ce8-14e147dd4ff2",
   "metadata": {},
   "outputs": [],
   "source": [
    "from sklearn.metrics.pairwise import cosine_similarity # importing cosine_similarity to check the simliarity of JD and candidate details"
   ]
  },
  {
   "cell_type": "code",
   "execution_count": 430,
   "id": "2b9d4091-8ef1-43ec-8f49-eb6aa60d2b5a",
   "metadata": {},
   "outputs": [],
   "source": [
    "# preporeseccing steps\n",
    "def preprocess_text(text):\n",
    "    y=[]\n",
    "    for i in text.lower().split():\n",
    "        y.append(ps.stem(i))\n",
    "  \n",
    "    return \" \".join(y)"
   ]
  },
  {
   "cell_type": "code",
   "execution_count": 431,
   "id": "f4c60141-fc80-46ef-a001-d62cb29e30ec",
   "metadata": {},
   "outputs": [],
   "source": [
    "def recommend(job_description):\n",
    "    job_vec = cv.transform([preprocess_text(job_description)]).toarray()\n",
    "    scores = cosine_similarity(job_vec, vectors)\n",
    "    top_candidates_indices = scores[0].argsort()[-5:][::-1]  # Adjust number as needed\n",
    "    return new_df.iloc[top_candidates_indices]"
   ]
  },
  {
   "cell_type": "code",
   "execution_count": 440,
   "id": "75672e8d-b6ad-4296-bc18-38f6280fffee",
   "metadata": {},
   "outputs": [
    {
     "data": {
      "text/html": [
       "<div>\n",
       "<style scoped>\n",
       "    .dataframe tbody tr th:only-of-type {\n",
       "        vertical-align: middle;\n",
       "    }\n",
       "\n",
       "    .dataframe tbody tr th {\n",
       "        vertical-align: top;\n",
       "    }\n",
       "\n",
       "    .dataframe thead th {\n",
       "        text-align: right;\n",
       "    }\n",
       "</style>\n",
       "<table border=\"1\" class=\"dataframe\">\n",
       "  <thead>\n",
       "    <tr style=\"text-align: right;\">\n",
       "      <th></th>\n",
       "      <th>Email</th>\n",
       "      <th>Overall years of Experience in domain?</th>\n",
       "      <th>Expected CTC (in terms of LPA)</th>\n",
       "      <th>What is your Notice Period?</th>\n",
       "      <th>On a scale of 10, how much you will rate your self for your Communication skill?</th>\n",
       "      <th>On a scale of 10, how much you will rate yourself for your domain expertise?</th>\n",
       "      <th>candidate_details</th>\n",
       "    </tr>\n",
       "  </thead>\n",
       "  <tbody>\n",
       "    <tr>\n",
       "      <th>146</th>\n",
       "      <td>a@147</td>\n",
       "      <td>Fresher</td>\n",
       "      <td>4.5 LPA</td>\n",
       "      <td>I can join anytime.</td>\n",
       "      <td>8</td>\n",
       "      <td>7</td>\n",
       "      <td>perform market execut delhi ye although i have...</td>\n",
       "    </tr>\n",
       "    <tr>\n",
       "      <th>172</th>\n",
       "      <td>a@173</td>\n",
       "      <td>6</td>\n",
       "      <td>700000</td>\n",
       "      <td>0</td>\n",
       "      <td>10</td>\n",
       "      <td>10</td>\n",
       "      <td>perform market execut delhi ye to work in a di...</td>\n",
       "    </tr>\n",
       "    <tr>\n",
       "      <th>233</th>\n",
       "      <td>a@234</td>\n",
       "      <td>1 year</td>\n",
       "      <td>300000</td>\n",
       "      <td>15 days</td>\n",
       "      <td>8</td>\n",
       "      <td>9</td>\n",
       "      <td>digit market execut noida ye i am comfort with...</td>\n",
       "    </tr>\n",
       "    <tr>\n",
       "      <th>200</th>\n",
       "      <td>a@201</td>\n",
       "      <td>1.5</td>\n",
       "      <td>6</td>\n",
       "      <td>1 week</td>\n",
       "      <td>8</td>\n",
       "      <td>8</td>\n",
       "      <td>social media execut delhi ye becaus i am do so...</td>\n",
       "    </tr>\n",
       "    <tr>\n",
       "      <th>51</th>\n",
       "      <td>a@52</td>\n",
       "      <td>I have total 5 years of experience</td>\n",
       "      <td>600000-700000</td>\n",
       "      <td>I have already resigned and can join immediately.</td>\n",
       "      <td>10</td>\n",
       "      <td>9</td>\n",
       "      <td>social media execut new delhi yes, i am avail ...</td>\n",
       "    </tr>\n",
       "  </tbody>\n",
       "</table>\n",
       "</div>"
      ],
      "text/plain": [
       "     Email Overall years of Experience in domain?  \\\n",
       "146  a@147                                Fresher   \n",
       "172  a@173                                      6   \n",
       "233  a@234                                 1 year   \n",
       "200  a@201                                    1.5   \n",
       "51    a@52     I have total 5 years of experience   \n",
       "\n",
       "    Expected CTC (in terms of LPA)  \\\n",
       "146                        4.5 LPA   \n",
       "172                         700000   \n",
       "233                         300000   \n",
       "200                              6   \n",
       "51                   600000-700000   \n",
       "\n",
       "                           What is your Notice Period?  \\\n",
       "146                                I can join anytime.   \n",
       "172                                                  0   \n",
       "233                                            15 days   \n",
       "200                                             1 week   \n",
       "51   I have already resigned and can join immediately.   \n",
       "\n",
       "     On a scale of 10, how much you will rate your self for your Communication skill?  \\\n",
       "146                                                  8                                  \n",
       "172                                                 10                                  \n",
       "233                                                  8                                  \n",
       "200                                                  8                                  \n",
       "51                                                  10                                  \n",
       "\n",
       "     On a scale of 10, how much you will rate yourself for your domain expertise?  \\\n",
       "146                                                  7                              \n",
       "172                                                 10                              \n",
       "233                                                  9                              \n",
       "200                                                  8                              \n",
       "51                                                   9                              \n",
       "\n",
       "                                     candidate_details  \n",
       "146  perform market execut delhi ye although i have...  \n",
       "172  perform market execut delhi ye to work in a di...  \n",
       "233  digit market execut noida ye i am comfort with...  \n",
       "200  social media execut delhi ye becaus i am do so...  \n",
       "51   social media execut new delhi yes, i am avail ...  "
      ]
     },
     "execution_count": 440,
     "metadata": {},
     "output_type": "execute_result"
    }
   ],
   "source": [
    "recommend('digital marketing, Delhi, 2 years of exerpience, work from office') # Here is the top five recommendation based on the profile"
   ]
  },
  {
   "cell_type": "code",
   "execution_count": null,
   "id": "77ff1520-90e9-46e5-ba0d-05bb894d13e4",
   "metadata": {},
   "outputs": [],
   "source": []
  },
  {
   "cell_type": "code",
   "execution_count": null,
   "id": "580cd2ab-fd46-41ca-92a9-bd35693c0354",
   "metadata": {},
   "outputs": [],
   "source": []
  }
 ],
 "metadata": {
  "kernelspec": {
   "display_name": "Python 3 (ipykernel)",
   "language": "python",
   "name": "python3"
  },
  "language_info": {
   "codemirror_mode": {
    "name": "ipython",
    "version": 3
   },
   "file_extension": ".py",
   "mimetype": "text/x-python",
   "name": "python",
   "nbconvert_exporter": "python",
   "pygments_lexer": "ipython3",
   "version": "3.11.7"
  }
 },
 "nbformat": 4,
 "nbformat_minor": 5
}
